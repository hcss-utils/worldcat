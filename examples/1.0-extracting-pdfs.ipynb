{
 "cells": [
  {
   "cell_type": "code",
   "execution_count": 48,
   "id": "411af36f-9b5a-4879-ab7b-dda23ff4e0f4",
   "metadata": {},
   "outputs": [],
   "source": [
    "import re\n",
    "import json\n",
    "import typing\n",
    "from uuid import uuid4\n",
    "from pathlib import Path\n",
    "\n",
    "import requests"
   ]
  },
  {
   "cell_type": "code",
   "execution_count": 49,
   "id": "b1690653-bc77-4d6a-aa3c-544433a8de1e",
   "metadata": {},
   "outputs": [],
   "source": [
    "PDFS = Path(\"..\").resolve() / \"assets\" / \"pdfs\"\n",
    "RE_URL = \"(http|ftp|https):\\/\\/([\\w_-]+(?:(?:\\.[\\w_-]+)+))([\\w.,@?^=%&:\\/~+#-]*[\\w@?^=%&\\/~+#-].pdf)\""
   ]
  },
  {
   "cell_type": "code",
   "execution_count": 7,
   "id": "e3c7f7c1-6c9b-4688-b40c-78be2d9f0b60",
   "metadata": {},
   "outputs": [],
   "source": [
    "DictLikeJSON = typing.Dict[str, typing.Any]\n",
    "ListLikeJSON = typing.List[DictLikeJSON]\n",
    "JSON = typing.Union[DictLikeJSON, ListLikeJSON]"
   ]
  },
  {
   "cell_type": "code",
   "execution_count": 2,
   "id": "011392d7-5bc6-4265-9123-b47109be60e1",
   "metadata": {},
   "outputs": [],
   "source": [
    "with open(\"../assets/test.json\", \"r\", encoding=\"utf-8\") as f:\n",
    "    data = json.load(f)"
   ]
  },
  {
   "cell_type": "code",
   "execution_count": 55,
   "id": "03507ee4-666b-4241-ae88-770423a41e08",
   "metadata": {},
   "outputs": [],
   "source": [
    "def assign_identifiers(corpus: JSON) -> None:\n",
    "    \"\"\"Assign unique identifiers.\"\"\"\n",
    "    for document in corpus:\n",
    "        document[\"uuid\"] = uuid4().hex\n",
    "        \n",
    "def prepare_links(corpus: JSON) -> typing.Iterator[typing.Dict[str, str]]:\n",
    "    \"\"\"Retrieve urls from .access key\"\"\"\n",
    "    for document in corpus:\n",
    "        if \"Access\" not in document:\n",
    "            continue\n",
    "        valid_url: str = None\n",
    "        for url in document[\"Access\"]:\n",
    "            m = re.search(RE_URL, url)\n",
    "            try:\n",
    "                valid_url = re.search(RE_URL, url).group()\n",
    "            except AttributeError:\n",
    "                continue\n",
    "        if valid_url is not None:\n",
    "            yield {\"uuid\": document[\"uuid\"], \"url\": valid_url}\n",
    "\n",
    "            \n",
    "def download(metadata: typing.Dict[str, str]) -> None:\n",
    "    local_filename = PDFS / f\"{metadata['uuid']}.pdf\"\n",
    "    with requests.get(metadata[\"url\"], stream=True) as r:\n",
    "        r.raise_for_status()\n",
    "        with local_filename.open(\"wb\") as f:\n",
    "            for chunk in r.iter_content(chunk_size=8192):\n",
    "                f.write(chunk)"
   ]
  },
  {
   "cell_type": "code",
   "execution_count": 12,
   "id": "4d3c2728-8e2f-4712-8f9f-2d633687f7b1",
   "metadata": {},
   "outputs": [],
   "source": [
    "assign_identifiers(data)"
   ]
  },
  {
   "cell_type": "code",
   "execution_count": 46,
   "id": "93c1e4db-d6bf-434e-a854-835b3b4afd9a",
   "metadata": {},
   "outputs": [],
   "source": [
    "proper_pdfs = list(prepare_links(data))"
   ]
  },
  {
   "cell_type": "code",
   "execution_count": 57,
   "id": "96bd136e-a649-4fd0-8aec-b9566b008a6c",
   "metadata": {
    "collapsed": true,
    "jupyter": {
     "outputs_hidden": true
    },
    "tags": []
   },
   "outputs": [
    {
     "name": "stdout",
     "output_type": "stream",
     "text": [
      "failed to download 8317b2487b8a4fad8d20e8b02dd07837: HTTPConnectionPool(host='www.specialer.sam.au.dk', port=80): Max retries exceeded with url: /stat/2010/20085575/20085575.1.pdf (Caused by NewConnectionError('<urllib3.connection.HTTPConnection object at 0x7fcb242e3730>: Failed to establish a new connection: [Errno -2] Name or service not known'))\n",
      "failed to download 4d2c49e167cf4377b61f464338a6b53c: HTTPConnectionPool(host='edocs.nps.edu', port=80): Max retries exceeded with url: /npspubs/scholarly/theses/2002/Dec/02Dec_Gray.pdf (Caused by ConnectTimeoutError(<urllib3.connection.HTTPConnection object at 0x7fcb242e3940>, 'Connection to edocs.nps.edu timed out. (connect timeout=None)'))\n",
      "failed to download 126ad992bcf240be82b6746e6fb2b14a: HTTPConnectionPool(host='edocs.nps.edu', port=80): Max retries exceeded with url: /npspubs/scholarly/theses/2010/Sep/10Sep_Harlambakis.pdf (Caused by ConnectTimeoutError(<urllib3.connection.HTTPConnection object at 0x7fcb242e8280>, 'Connection to edocs.nps.edu timed out. (connect timeout=None)'))\n",
      "failed to download 219e6ec7e3204559933b211947208306: HTTPConnectionPool(host='library.nps.navy.mil', port=80): Max retries exceeded with url: /uhtbin/hyperion/04Sep_McIntosh.pdf (Caused by NewConnectionError('<urllib3.connection.HTTPConnection object at 0x7fcb242e8190>: Failed to establish a new connection: [Errno -2] Name or service not known'))\n",
      "failed to download a8aa7b3e5402400983a43fde81a81266: HTTPConnectionPool(host='edocs.nps.edu', port=80): Max retries exceeded with url: /npspubs/scholarly/theses/2001/Mar/01Mar_Harmon.pdf (Caused by ConnectTimeoutError(<urllib3.connection.HTTPConnection object at 0x7fcb242ea380>, 'Connection to edocs.nps.edu timed out. (connect timeout=None)'))\n",
      "failed to download 0518529086b9439a80e699c84993d3fd: HTTPConnectionPool(host='dspace.library.uvic.ca', port=80): Max retries exceeded with url: /bitstream/handle/1828/204/Charting%20a%20New%20Silk%20Road.pdf (Caused by NewConnectionError('<urllib3.connection.HTTPConnection object at 0x7fcb242e2ad0>: Failed to establish a new connection: [Errno -3] Temporary failure in name resolution'))\n",
      "failed to download 512d3d61b88642e886a69ff438527caf: HTTPConnectionPool(host='edocs.nps.edu', port=80): Max retries exceeded with url: /npspubs/scholarly/theses/1998/Dec/98Dec_Golopatyuk.pdf (Caused by ConnectTimeoutError(<urllib3.connection.HTTPConnection object at 0x7fcb242e3af0>, 'Connection to edocs.nps.edu timed out. (connect timeout=None)'))\n",
      "failed to download 5eeff71fe76d428887b869b1c15cf901: HTTPConnectionPool(host='edocs.nps.edu', port=80): Max retries exceeded with url: /npspubs/scholarly/theses/2005/Jun/05Jun_Barnovi.pdf (Caused by ConnectTimeoutError(<urllib3.connection.HTTPConnection object at 0x7fcb242ea500>, 'Connection to edocs.nps.edu timed out. (connect timeout=None)'))\n",
      "failed to download 32a3080ac1a34b75a2d2f02e23707d50: HTTPConnectionPool(host='dissertations.jyu.fi', port=80): Max retries exceeded with url: /studhum/9789513948214.pdf (Caused by NewConnectionError('<urllib3.connection.HTTPConnection object at 0x7fcb242e9780>: Failed to establish a new connection: [Errno -2] Name or service not known'))\n",
      "failed to download 7077c65e1e884be19964ff9d6edeeced: 401 Client Error: Unauthorized for url: https://etheses.bham.ac.uk/id/eprint/2887/1.hassmallThumbnailVersion/Snetkov11PhD.pdf\n",
      "failed to download d1224595f6474cdca490e49cfe2b2598: HTTPConnectionPool(host='edocs.nps.edu', port=80): Max retries exceeded with url: /npspubs/scholarly/theses/2006/Mar/06Mar_Hlosek.pdf (Caused by ConnectTimeoutError(<urllib3.connection.HTTPConnection object at 0x7fcb242e9930>, 'Connection to edocs.nps.edu timed out. (connect timeout=None)'))\n",
      "failed to download 5feff3fc72bc4eb5bb786a01f1a2939c: HTTPSConnectionPool(host='eprints.lib.ui.ac.id', port=443): Max retries exceeded with url: //3780/8/123062-T%2026155-Faktor-faktor-Abstrak.pdf (Caused by SSLError(SSLCertVerificationError(1, '[SSL: CERTIFICATE_VERIFY_FAILED] certificate verify failed: unable to get local issuer certificate (_ssl.c:997)')))\n",
      "failed to download cd21e7371db6448482f8adfecb717372: HTTPConnectionPool(host='edocs.nps.edu', port=80): Max retries exceeded with url: /npspubs/scholarly/theses/2000/Jun/00Jun_Wagner.pdf (Caused by ConnectTimeoutError(<urllib3.connection.HTTPConnection object at 0x7fcb242e86a0>, 'Connection to edocs.nps.edu timed out. (connect timeout=None)'))\n",
      "failed to download fbc0e74e672246cc82ef118b45cc60bd: HTTPConnectionPool(host='edocs.nps.edu', port=80): Max retries exceeded with url: /npspubs/scholarly/theses/2007/Dec/07Dec_Roettger.pdf (Caused by ConnectTimeoutError(<urllib3.connection.HTTPConnection object at 0x7fcb242ea8f0>, 'Connection to edocs.nps.edu timed out. (connect timeout=None)'))\n",
      "failed to download 216e17529add4977b0b235bc5be62190: HTTPConnectionPool(host='edocs.nps.edu', port=80): Max retries exceeded with url: /npspubs/scholarly/theses/2008/Jun/08Jun_Shannon.pdf (Caused by ConnectTimeoutError(<urllib3.connection.HTTPConnection object at 0x7fcb242e3220>, 'Connection to edocs.nps.edu timed out. (connect timeout=None)'))\n",
      "failed to download e275cda24b2a40e283cf9903ad2c7d37: HTTPConnectionPool(host='edocs.nps.edu', port=80): Max retries exceeded with url: /npspubs/scholarly/theses/2006/Mar/06Mar_Abelyan.pdf (Caused by ConnectTimeoutError(<urllib3.connection.HTTPConnection object at 0x7fcb242e2920>, 'Connection to edocs.nps.edu timed out. (connect timeout=None)'))\n",
      "failed to download f207d836232f4d51a11a07ab00aebc88: HTTPConnectionPool(host='uctscholar.uct.ac.za', port=80): Max retries exceeded with url: /PDF/4617_Jeffery_Jared.pdf (Caused by NewConnectionError('<urllib3.connection.HTTPConnection object at 0x7fcb242e8310>: Failed to establish a new connection: [Errno -2] Name or service not known'))\n",
      "failed to download b52ba15422d94e9c8fbd51327c7c63ff: HTTPConnectionPool(host='edocs.nps.edu', port=80): Max retries exceeded with url: /npspubs/scholarly/theses/2010/Jun/10Jun_Garcia.pdf (Caused by ConnectTimeoutError(<urllib3.connection.HTTPConnection object at 0x7fcb242ea680>, 'Connection to edocs.nps.edu timed out. (connect timeout=None)'))\n",
      "failed to download c97f589203cc47ad8c67a1ff6fa74bb1: HTTPConnectionPool(host='edocs.nps.edu', port=80): Max retries exceeded with url: /npspubs/scholarly/theses/2008/Jun/08Jun_Imblum.pdf (Caused by ConnectTimeoutError(<urllib3.connection.HTTPConnection object at 0x7fcb242e8550>, 'Connection to edocs.nps.edu timed out. (connect timeout=None)'))\n",
      "failed to download 6388ca48c8134b5eb82a157fed64df70: 401 Client Error: Unauthorized for url: https://library.coleurope.eu/pdf/thesis/thesis_2015_POL_STANIMIROV.pdf\n",
      "failed to download 58dee80b127c4b5a9ae83606c6a6e165: HTTPConnectionPool(host='library.nps.navy.mil', port=80): Max retries exceeded with url: /uhtbin/hyperion-image/02Dec_Gray.pdf (Caused by NewConnectionError('<urllib3.connection.HTTPConnection object at 0x7fcb242e8670>: Failed to establish a new connection: [Errno -2] Name or service not known'))\n",
      "failed to download 9d3bd99418504a9aab7faad5582b16bd: 403 Client Error: Forbidden for url: http://etd.lib.metu.edu.tr/upload/2/12605235/index.pdf\n",
      "failed to download 2aa9988614214904a6a0d4a1c227c301: HTTPConnectionPool(host='edocs.nps.edu', port=80): Max retries exceeded with url: /npspubs/scholarly/theses/1998/Dec/98Dec_Golopatyuk.pdf (Caused by ConnectTimeoutError(<urllib3.connection.HTTPConnection object at 0x7fcb242e98a0>, 'Connection to edocs.nps.edu timed out. (connect timeout=None)'))\n",
      "failed to download a08e0fa5e84f4ae792c784f4c2fe6490: HTTPConnectionPool(host='edocs.nps.edu', port=80): Max retries exceeded with url: /npspubs/scholarly/theses/1999/Dec/99Dec_Conley.pdf (Caused by ConnectTimeoutError(<urllib3.connection.HTTPConnection object at 0x7fcb242ea4a0>, 'Connection to edocs.nps.edu timed out. (connect timeout=None)'))\n",
      "failed to download 03ddf0a8c3fb4adf81b8909b1ed61df4: HTTPConnectionPool(host='edocs.nps.edu', port=80): Max retries exceeded with url: /npspubs/scholarly/theses/2009/Dec/09Dec_Carlsson.pdf (Caused by ConnectTimeoutError(<urllib3.connection.HTTPConnection object at 0x7fcb242e3b50>, 'Connection to edocs.nps.edu timed out. (connect timeout=None)'))\n",
      "failed to download 9d82785371be4f4db534a0fb6e5c94db: HTTPConnectionPool(host='edocs.nps.edu', port=80): Max retries exceeded with url: /npspubs/scholarly/theses/2001/Jun/01Jun_Edwards.pdf (Caused by ConnectTimeoutError(<urllib3.connection.HTTPConnection object at 0x7fcb242e27a0>, 'Connection to edocs.nps.edu timed out. (connect timeout=None)'))\n",
      "failed to download 7b27e4c92d594400b5c5579b878f40f5: 403 Client Error: Forbidden for url: http://etd.lib.metu.edu.tr/upload/2/12606384/index.pdf\n",
      "failed to download 342a4fe78e7946c7b83e56929eb15431: HTTPConnectionPool(host='edocs.nps.edu', port=80): Max retries exceeded with url: /npspubs/scholarly/theses/2008/Dec/08Dec_Nogaj.pdf (Caused by ConnectTimeoutError(<urllib3.connection.HTTPConnection object at 0x7fcb242ead10>, 'Connection to edocs.nps.edu timed out. (connect timeout=None)'))\n"
     ]
    }
   ],
   "source": [
    "for linked_document in prepare_links(data):\n",
    "    try:\n",
    "        download(linked_document)\n",
    "    except Exception as e:\n",
    "        print(f\"failed to download {linked_document['uuid']}: {str(e)}\")"
   ]
  },
  {
   "cell_type": "code",
   "execution_count": 58,
   "id": "14099fc1-8f8e-4785-bf68-3237a4bd58c4",
   "metadata": {},
   "outputs": [],
   "source": [
    "with open(\"../assets/corpus-with-identifiers.json\", \"w\", encoding=\"utf-8\") as f:\n",
    "    json.dump(data, f, indent=4, ensure_ascii=False)"
   ]
  },
  {
   "cell_type": "code",
   "execution_count": null,
   "id": "75aab3fd-808c-4db6-a4ea-e7365184241f",
   "metadata": {},
   "outputs": [],
   "source": [
    "# !todo\n",
    "# move pdf files to parse-pdf-grobid folder\n",
    "# parse\n",
    "# join back using uuid \n",
    "# rename fields!!!"
   ]
  }
 ],
 "metadata": {
  "kernelspec": {
   "display_name": "Python 3 (ipykernel)",
   "language": "python",
   "name": "python3"
  },
  "language_info": {
   "codemirror_mode": {
    "name": "ipython",
    "version": 3
   },
   "file_extension": ".py",
   "mimetype": "text/x-python",
   "name": "python",
   "nbconvert_exporter": "python",
   "pygments_lexer": "ipython3",
   "version": "3.10.4"
  }
 },
 "nbformat": 4,
 "nbformat_minor": 5
}
