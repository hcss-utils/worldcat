{
 "cells": [
  {
   "cell_type": "code",
   "execution_count": 1,
   "id": "fdac9108-2d39-419f-95a2-4fae04bf179f",
   "metadata": {},
   "outputs": [],
   "source": [
    "import json\n",
    "import typing\n",
    "from pathlib import Path"
   ]
  },
  {
   "cell_type": "code",
   "execution_count": 2,
   "id": "b65cc7d4-5d66-4048-b0a0-6e2b82dd59d6",
   "metadata": {},
   "outputs": [],
   "source": [
    "ROOT = Path(\"../assets/pdfs/processed/processed/\").resolve()"
   ]
  },
  {
   "cell_type": "code",
   "execution_count": 3,
   "id": "7ddaf06b-f285-4260-84ed-4f621671d63a",
   "metadata": {},
   "outputs": [],
   "source": [
    "DictLikeJSON = typing.Dict[str, typing.Any]\n",
    "ListLikeJSON = typing.List[DictLikeJSON]\n",
    "JSON = typing.Union[DictLikeJSON, ListLikeJSON]"
   ]
  },
  {
   "cell_type": "code",
   "execution_count": 13,
   "id": "79a19e85-ea4a-49ea-965e-13a37d2d4225",
   "metadata": {},
   "outputs": [],
   "source": [
    "def read_folder(path: Path) -> typing.Iterator[Path]:\n",
    "    for file in path.rglob(\"*.json\"):\n",
    "        yield file\n",
    "        \n",
    "        \n",
    "def read_json(path: Path) -> JSON:\n",
    "    with path.open(\"r\", encoding=\"utf-8\") as f:\n",
    "        data = json.load(f)\n",
    "    return data\n",
    "\n",
    "def rename_fields(data: JSON) -> None:\n",
    "    return {f\"GROBID_{k}\":v for k,v in data.items()}\n",
    "        \n",
    "        \n",
    "def left_join(left: ListLikeJSON, right: DictLikeJSON) -> None:\n",
    "    \"\"\"Since we only have few parsed .pdf files, we'll start iterating \n",
    "    the right obj.\"\"\"\n",
    "    right[\"join_status\"] = 0\n",
    "    right_uuid = right[\"GROBID_paper_id\"]\n",
    "    for document in left:\n",
    "        left_uuid = document[\"uuid\"]\n",
    "        if right_uuid == left_uuid:\n",
    "            document[\"GROBID\"] = right\n",
    "            right[\"join_status\"] = 1\n",
    "            print(left_uuid)"
   ]
  },
  {
   "cell_type": "code",
   "execution_count": 10,
   "id": "f02371f2-150b-48a2-b7ca-52555d556e13",
   "metadata": {},
   "outputs": [],
   "source": [
    "left = read_json(Path(\"../assets/corpus-with-identifiers.json\").resolve())"
   ]
  },
  {
   "cell_type": "code",
   "execution_count": 14,
   "id": "f2f7fd4b-d6c3-44fb-956b-268b42e690a6",
   "metadata": {},
   "outputs": [
    {
     "name": "stdout",
     "output_type": "stream",
     "text": [
      "68b1d8557fb44235ac0be19016950e9b\n",
      "f29a1bb4f8c44b49a9f0f10ae84dd09c\n",
      "301ccfa4c95f4530922cc8764b27febd\n",
      "f46c395e7b5f4fd49c673083cc0a0f9e\n",
      "38e092806c274b3daa0a2ec039f95e7b\n",
      "d95427cc7ecc4c83a4f3d33a7774d034\n",
      "a226c39c074c4bb9b25417764d640142\n",
      "ec16364bb78b4ab39fbee1c6dc037b17\n",
      "2621c26d4fdb4e6690abb08c931e8e27\n",
      "d9cbda28cad84618b5dda83db9b41c1a\n",
      "5a86accf46dd469fbb61f3bf48ba7d0a\n",
      "e1c9588a27794552a068db82ad76b4a5\n",
      "bdfd96d98dcc4724bf692cf47589a611\n",
      "e582165efaf7471f9b618da004f11be2\n",
      "0a832856bdba483e9d7dc09ed001c916\n",
      "fc48f912774c4451969581f1726e8156\n",
      "d17e81427c1c44b59871113f847f6809\n",
      "a210de3f8b4247f5ac398e94d3775c98\n",
      "2e125e297579458dab6b02e3d35c660a\n",
      "d978c026c03d4c0784fe2bcdeaf39c84\n",
      "4c614a28eeae4208998558429321ad84\n",
      "4128d7b8067c48ce880fafe70557a74b\n",
      "f75c758c2bbc41d2a6662fce07839deb\n",
      "c7cd5a8eeed94d1ba25e53c5e6384e0c\n",
      "f2c76a6b3f244b13aac42d10891be681\n",
      "dc27e2d6acb845069b2cd18b11105de3\n",
      "5c0921babec24372990f450fd7217fdc\n",
      "1a8d7fd0626d4d59a15b200504fd10b5\n",
      "83247141d5444f2493376cab1754ca9b\n",
      "15a5c8bcae214b6980c53059b5a340f8\n",
      "93963c40ec8a4b6bb1f11581bc2738d8\n",
      "b776b54f5f9f43f199ff538df209b94b\n",
      "9966d2af2ea844ffae4f11100226d55f\n",
      "495b2630385d4221bf8ad86bb9d443e7\n",
      "97c95e798dc54f139c32f261f1a42058\n",
      "5f5213a36f1049e495861cde7a5c5c9f\n"
     ]
    }
   ],
   "source": [
    "for file in read_folder(ROOT):\n",
    "    right = rename_fields(read_json(file))\n",
    "    left_join(left, right)"
   ]
  },
  {
   "cell_type": "code",
   "execution_count": 18,
   "id": "99644ae1-5b2b-4b80-8e34-ecb8b7d5ddf3",
   "metadata": {},
   "outputs": [],
   "source": [
    "l = \"\"\"68b1d8557fb44235ac0be19016950e9b\n",
    "f29a1bb4f8c44b49a9f0f10ae84dd09c\n",
    "301ccfa4c95f4530922cc8764b27febd\n",
    "f46c395e7b5f4fd49c673083cc0a0f9e\n",
    "38e092806c274b3daa0a2ec039f95e7b\n",
    "d95427cc7ecc4c83a4f3d33a7774d034\n",
    "a226c39c074c4bb9b25417764d640142\n",
    "ec16364bb78b4ab39fbee1c6dc037b17\n",
    "2621c26d4fdb4e6690abb08c931e8e27\n",
    "d9cbda28cad84618b5dda83db9b41c1a\n",
    "5a86accf46dd469fbb61f3bf48ba7d0a\n",
    "e1c9588a27794552a068db82ad76b4a5\n",
    "bdfd96d98dcc4724bf692cf47589a611\n",
    "e582165efaf7471f9b618da004f11be2\n",
    "0a832856bdba483e9d7dc09ed001c916\n",
    "fc48f912774c4451969581f1726e8156\n",
    "d17e81427c1c44b59871113f847f6809\n",
    "a210de3f8b4247f5ac398e94d3775c98\n",
    "2e125e297579458dab6b02e3d35c660a\n",
    "d978c026c03d4c0784fe2bcdeaf39c84\n",
    "4c614a28eeae4208998558429321ad84\n",
    "4128d7b8067c48ce880fafe70557a74b\n",
    "f75c758c2bbc41d2a6662fce07839deb\n",
    "c7cd5a8eeed94d1ba25e53c5e6384e0c\n",
    "f2c76a6b3f244b13aac42d10891be681\n",
    "dc27e2d6acb845069b2cd18b11105de3\n",
    "5c0921babec24372990f450fd7217fdc\n",
    "1a8d7fd0626d4d59a15b200504fd10b5\n",
    "83247141d5444f2493376cab1754ca9b\n",
    "15a5c8bcae214b6980c53059b5a340f8\n",
    "93963c40ec8a4b6bb1f11581bc2738d8\n",
    "b776b54f5f9f43f199ff538df209b94b\n",
    "9966d2af2ea844ffae4f11100226d55f\n",
    "495b2630385d4221bf8ad86bb9d443e7\n",
    "97c95e798dc54f139c32f261f1a42058\n",
    "5f5213a36f1049e495861cde7a5c5c9f\"\"\".split(\"\\n\")"
   ]
  },
  {
   "cell_type": "code",
   "execution_count": 21,
   "id": "bac556b4-3e8f-446e-9405-ec79e3245dd2",
   "metadata": {},
   "outputs": [],
   "source": [
    "subset = []\n",
    "for item in left:\n",
    "    if item[\"uuid\"] in l:\n",
    "        subset.append(item)"
   ]
  },
  {
   "cell_type": "code",
   "execution_count": 24,
   "id": "ad571d97-4ad1-43a2-b4e4-3e12742f2d4d",
   "metadata": {},
   "outputs": [],
   "source": [
    "with open(\"../assets/corpus-subset-grobid.json\", \"w\", encoding=\"utf-8\") as f:\n",
    "    json.dump(subset, f, indent=4, ensure_ascii=False)"
   ]
  }
 ],
 "metadata": {
  "kernelspec": {
   "display_name": "Python 3 (ipykernel)",
   "language": "python",
   "name": "python3"
  },
  "language_info": {
   "codemirror_mode": {
    "name": "ipython",
    "version": 3
   },
   "file_extension": ".py",
   "mimetype": "text/x-python",
   "name": "python",
   "nbconvert_exporter": "python",
   "pygments_lexer": "ipython3",
   "version": "3.10.4"
  }
 },
 "nbformat": 4,
 "nbformat_minor": 5
}
